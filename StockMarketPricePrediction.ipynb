import pandas as pd
import pandas_ta
from sklearn.model_selection import train_test_split
from sklearn.linear_model import LinearRegression
from sklearn.metrics import mean_squared_error, r2_score, mean_absolute_error

df = pd.read_csv("TSLV.csv")
print(df)

df.describe()

df.set_index(pd.DatetimeIndex(df['Date']),inplace=True)
df = df[['Adj Close']]
print(df)

df.info()

df.ta.ema(close="Adj Close', length=10, append=True)
df.head(10)

df = df.iloc[10:]
df.head(10)

X_train, X_test, y_train, y_test = train_test_split(df[['Adj Close']], df[['EMA_10']], test_size=.2)

X_test.describe()
X_train.describe()

model = LinearRegression()
model.fit(X_train,y_train)
y_pred = model.predict(X_test)

print("Model Coefficients:", model.coef_)
print("Mean Absolute Error:", mean_absolute_error(y_test, y_pred))
print("Coefficient of determination:", r2_score(y_test, y_pred)

plt.scatter(X_test,y_test,color='k')
plt.plot(X_test,y_pred,color='b',linewidth=3)

